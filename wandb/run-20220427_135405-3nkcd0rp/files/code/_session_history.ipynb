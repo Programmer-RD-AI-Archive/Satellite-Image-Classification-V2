{
 "cells": [
  {
   "cell_type": "code",
   "execution_count": 1,
   "id": "6cbc4c8f",
   "metadata": {},
   "outputs": [],
   "source": [
    "import torch\n",
    "import pandas as pd\n",
    "import numpy as np\n",
    "import matplotlib.pyplot as plt\n",
    "import seaborn as sns\n",
    "import torchvision\n",
    "import cv2\n",
    "import os\n",
    "import wandb\n",
    "from tqdm import tqdm\n",
    "from sklearn.model_selection import *\n",
    "from sklearn.metrics import *\n",
    "from torch.nn import *\n",
    "from torch.optim import *\n",
    "from torch.functional import *\n",
    "from torchvision import transforms\n",
    "import random\n",
    "from PIL import Image"
   ]
  },
  {
   "cell_type": "code",
   "execution_count": 2,
   "id": "92a092c9",
   "metadata": {},
   "outputs": [],
   "source": [
    "PROJECT_NAME = \"Satellite-Image-Classification-V2\"\n",
    "device = torch.device('cuda')"
   ]
  },
  {
   "cell_type": "code",
   "execution_count": 3,
   "id": "4f47c6c1",
   "metadata": {},
   "outputs": [],
   "source": [
    "transformation = transforms.Compose(\n",
    "    [\n",
    "        transforms.RandomHorizontalFlip(),\n",
    "        transforms.RandomVerticalFlip(),\n",
    "        transforms.RandomRotation(random.randint(0,360)),\n",
    "        transforms.ColorJitter()\n",
    "    ]\n",
    ")"
   ]
  },
  {
   "cell_type": "code",
   "execution_count": 4,
   "id": "f7368d8b",
   "metadata": {},
   "outputs": [],
   "source": [
    "img = cv2.imread('./data/cloudy/train_10021.jpg')"
   ]
  },
  {
   "cell_type": "code",
   "execution_count": 5,
   "id": "21ab3da6",
   "metadata": {},
   "outputs": [
    {
     "name": "stdout",
     "output_type": "stream",
     "text": [
      "<matplotlib.image.AxesImage at 0x7f1d2bc66ca0>"
     ]
    }
   ],
   "source": [
    "plt.imshow(img)"
   ]
  },
  {
   "cell_type": "code",
   "execution_count": 6,
   "id": "6e1c347c",
   "metadata": {},
   "outputs": [
    {
     "name": "stdout",
     "output_type": "stream",
     "text": [
      "<matplotlib.image.AxesImage at 0x7f1d2bbc6df0>"
     ]
    }
   ],
   "source": [
    "plt.imshow(transformation(Image.fromarray(img)))"
   ]
  },
  {
   "cell_type": "code",
   "execution_count": 7,
   "id": "44416a47",
   "metadata": {},
   "outputs": [],
   "source": [
    "def load_data():\n",
    "    labels = {}\n",
    "    labels_r = {}\n",
    "    idx = -1\n",
    "    data = []\n",
    "    X = []\n",
    "    y = []\n",
    "    for directory in os.listdir('./data/'):\n",
    "        idx += 1\n",
    "        labels[directory] = idx\n",
    "        labels_r[idx] = directory\n",
    "    for directory in tqdm(os.listdir('./data/')):\n",
    "        for file in os.listdir('./data/' + directory)[:500]:\n",
    "            img = cv2.imread('./data/' + directory + '/' + file)\n",
    "            img = cv2.resize(img,(56,56))\n",
    "            img = img / 255.0\n",
    "            data.append([img,labels[directory]])\n",
    "    np.random.shuffle(data)\n",
    "    for d in data:\n",
    "        X.append(d[0])\n",
    "        y.append(d[1])\n",
    "    X_train,X_test,y_train,y_test = train_test_split(X,y,test_size=0.25,shuffle=True)\n",
    "    X_train = torch.from_numpy(np.array(X_train)).to(device).view(-1,3,56,56)\n",
    "    X_test = torch.from_numpy(np.array(X_test)).to(device).view(-1,3,56,56)\n",
    "    y_train = torch.from_numpy(np.array(y_train)).to(device)\n",
    "    y_test = torch.from_numpy(np.array(y_test)).to(device)\n",
    "    return X_train,X_test,y_train,y_test,data,X,y,labels,labels_r,idx"
   ]
  },
  {
   "cell_type": "code",
   "execution_count": 8,
   "id": "3f4a5ae1",
   "metadata": {},
   "outputs": [],
   "source": [
    "X_train,X_test,y_train,y_test,data,X,y,labels,labels_r,idx = load_data()"
   ]
  },
  {
   "cell_type": "code",
   "execution_count": 9,
   "id": "01ebd949",
   "metadata": {},
   "outputs": [],
   "source": [
    "torch.save(labels,'./save/labels.pt')\n",
    "torch.save(labels,'./save/labels.pth')\n",
    "torch.save(labels_r,'./save/labels_r.pt')\n",
    "torch.save(labels_r,'./save/labels_r.pth')\n",
    "torch.save(data,'./save/data.pt')\n",
    "torch.save(data,'./save/data.pth')\n",
    "torch.save(X,'./save/X.pt')\n",
    "torch.save(y,'./save/y.pth')\n",
    "torch.save(X_train,'./save/X_train.pt')\n",
    "torch.save(X_test,'./save/X_test.pth')\n",
    "torch.save(y_train,'./save/y_train.pt')\n",
    "torch.save(y_test,'./save/y_test.pth')"
   ]
  },
  {
   "cell_type": "code",
   "execution_count": 10,
   "id": "8a5b78df",
   "metadata": {},
   "outputs": [
    {
     "name": "stdout",
     "output_type": "stream",
     "text": [
      "tensor([[[6.]]])"
     ]
    }
   ],
   "source": [
    "torch.round(torch.tensor([[[5.5]]]))"
   ]
  },
  {
   "cell_type": "code",
   "execution_count": 11,
   "id": "055b522a",
   "metadata": {},
   "outputs": [],
   "source": [
    "def get_loss(model,X,y,criterion):\n",
    "    preds = model(X)\n",
    "    loss = criterion(preds,y)\n",
    "    return loss.item()"
   ]
  },
  {
   "cell_type": "code",
   "execution_count": 12,
   "id": "e41421a0",
   "metadata": {},
   "outputs": [],
   "source": [
    "def get_accuracy(model,X,y):\n",
    "    total = 0\n",
    "    correct = 0\n",
    "    preds = model(X)\n",
    "    for pred,y_iter in zip(preds,y):\n",
    "        pred = torch.round(pred)\n",
    "        y_iter = torch.round(y_iter)\n",
    "        if pred == y_iter:\n",
    "            correct += 1\n",
    "        total += 1\n",
    "    return round(correct/total,3)"
   ]
  },
  {
   "cell_type": "code",
   "execution_count": 13,
   "id": "55a71140",
   "metadata": {},
   "outputs": [],
   "source": [
    "class Model(Module):\n",
    "    def __init__(self):\n",
    "        super().__init__()\n",
    "        self.relu = ReLU()\n",
    "        self.max_pool2d = MaxPool2d((2,2))\n",
    "        self.conv1 = Conv2d(3,16,5)\n",
    "        self.conv2norm = BatchNorm2d(16)\n",
    "        self.conv3 = Conv2d(16,32,5)\n",
    "        self.linear1 = Linear(32*25*25,256)\n",
    "        self.linear2 = Linear(256,512)\n",
    "        self.linear3norm = BatchNorm1d(512)\n",
    "        self.linear4 = Linear(512,256)\n",
    "        self.linear5 = Linear(256,1)\n",
    "    \n",
    "    def forward(self,X):\n",
    "        preds = self.max_pool2d(self.relu(self.conv1(X)))\n",
    "        preds = self.conv2norm(preds)\n",
    "        preds = self.max_pool2d(self.relu(self.conv3(preds)))\n",
    "        preds = preds.view(-1,32*25*25)\n",
    "        preds = self.relu(self.linear1(preds))\n",
    "        preds = self.relu(self.linear2(preds))\n",
    "        preds = self.linear3norm(preds)\n",
    "        preds = self.relu(self.linear4(preds))\n",
    "        preds = self.relu(self.linear5(preds))\n",
    "        return preds"
   ]
  },
  {
   "cell_type": "code",
   "execution_count": 14,
   "id": "8d11b72a",
   "metadata": {},
   "outputs": [],
   "source": [
    "model = Model().to(device)\n",
    "criterion = MSELoss()\n",
    "optimizer = Adam(model.parameters(),lr=0.001)\n",
    "batch_size = 32\n",
    "epochs = 100"
   ]
  },
  {
   "cell_type": "code",
   "execution_count": 15,
   "id": "4106698e",
   "metadata": {},
   "outputs": [
    {
     "data": {
      "text/html": [
       "Tracking run with wandb version 0.12.15"
      ],
      "text/plain": [
       "<IPython.core.display.HTML object>"
      ]
     },
     "metadata": {},
     "output_type": "display_data"
    },
    {
     "data": {
      "text/html": [
       "Run data is saved locally in <code>/media/indika/Sync/Programmer-RD-AI/Programming/Projects/Python/Artifical-Intelligence/PyTorch/CNN/Satellite-Image-Classification-V2/wandb/run-20220427_135405-3nkcd0rp</code>"
      ],
      "text/plain": [
       "<IPython.core.display.HTML object>"
      ]
     },
     "metadata": {},
     "output_type": "display_data"
    },
    {
     "data": {
      "text/html": [
       "Syncing run <strong><a href=\"https://wandb.ai/ranuga-d/Satellite-Image-Classification-V2/runs/3nkcd0rp\" target=\"_blank\">BaseLine</a></strong> to <a href=\"https://wandb.ai/ranuga-d/Satellite-Image-Classification-V2\" target=\"_blank\">Weights & Biases</a> (<a href=\"https://wandb.me/run\" target=\"_blank\">docs</a>)<br/>"
      ],
      "text/plain": [
       "<IPython.core.display.HTML object>"
      ]
     },
     "metadata": {},
     "output_type": "display_data"
    }
   ],
   "source": [
    "wandb.init(project=PROJECT_NAME,name='BaseLine')\n",
    "for _ in tqdm(range(epochs)):\n",
    "    for idx in range(0,len(X_train),batch_size):\n",
    "        X_batch = X_train[idx:idx+batch_size].float()\n",
    "        y_batch = y_train[idx:idx+batch_size].float()\n",
    "        preds = model(X_batch.float())\n",
    "        loss = criterion(preds.float(),y_batch.float())\n",
    "        optimizer.step()\n",
    "        loss.backward()\n",
    "        optimizer.zero_grad()\n",
    "        wandb.log({\n",
    "            \"Accuracy\":((get_accuracy(model,X_batch,y_batch)+get_accuracy(model,X_test,y_test))/2)*100,\n",
    "            \"Loss\":((get_loss(model,X_batch,y_batch,criterion)+get_loss(model,X_test,y_test,criterion))/2)\n",
    "        })\n",
    "wandb.finish()"
   ]
  },
  {
   "cell_type": "code",
   "execution_count": 16,
   "id": "25c2c464",
   "metadata": {},
   "outputs": [],
   "source": [
    "class Model(Module):\n",
    "    def __init__(self):\n",
    "        super().__init__()\n",
    "        self.relu = ReLU()\n",
    "        self.max_pool2d = MaxPool2d((2,2))\n",
    "        self.conv1 = Conv2d(3,16,5)\n",
    "        self.conv2norm = BatchNorm2d(16)\n",
    "        self.conv3 = Conv2d(16,32,5)\n",
    "        self.linear1 = Linear(32*25*25,256)\n",
    "        self.linear2 = Linear(256,512)\n",
    "        self.linear3norm = BatchNorm1d(512)\n",
    "        self.linear4 = Linear(512,256)\n",
    "        self.linear5 = Linear(256,1)\n",
    "    \n",
    "    def forward(self,X):\n",
    "        preds = self.max_pool2d(self.relu(self.conv1(X)))\n",
    "        preds = self.conv2norm(preds)\n",
    "        preds = self.max_pool2d(self.relu(self.conv3(preds)))\n",
    "        print(preds.shape)\n",
    "        preds = preds.view(-1,32*25*25)\n",
    "        preds = self.relu(self.linear1(preds))\n",
    "        preds = self.relu(self.linear2(preds))\n",
    "        preds = self.linear3norm(preds)\n",
    "        preds = self.relu(self.linear4(preds))\n",
    "        preds = self.relu(self.linear5(preds))\n",
    "        return preds"
   ]
  },
  {
   "cell_type": "code",
   "execution_count": 17,
   "id": "a6d5abfc",
   "metadata": {},
   "outputs": [],
   "source": [
    "model = Model().to(device)\n",
    "criterion = MSELoss()\n",
    "optimizer = Adam(model.parameters(),lr=0.001)\n",
    "batch_size = 32\n",
    "epochs = 100"
   ]
  },
  {
   "cell_type": "code",
   "execution_count": 18,
   "id": "b69b9b2b",
   "metadata": {},
   "outputs": [],
   "source": [
    "wandb.init(project=PROJECT_NAME,name='BaseLine')\n",
    "for _ in tqdm(range(epochs)):\n",
    "    for idx in range(0,len(X_train),batch_size):\n",
    "        X_batch = X_train[idx:idx+batch_size].float()\n",
    "        y_batch = y_train[idx:idx+batch_size].float()\n",
    "        preds = model(X_batch.float())\n",
    "        loss = criterion(preds.float(),y_batch.float())\n",
    "        optimizer.step()\n",
    "        loss.backward()\n",
    "        optimizer.zero_grad()\n",
    "        wandb.log({\n",
    "            \"Accuracy\":((get_accuracy(model,X_batch,y_batch)+get_accuracy(model,X_test,y_test))/2)*100,\n",
    "            \"Loss\":((get_loss(model,X_batch,y_batch,criterion)+get_loss(model,X_test,y_test,criterion))/2)\n",
    "        })\n",
    "wandb.finish()"
   ]
  }
 ],
 "metadata": {
  "kernelspec": {
   "display_name": "Python 3",
   "language": "python",
   "name": "python3"
  },
  "language_info": {
   "codemirror_mode": {
    "name": "ipython",
    "version": 3
   },
   "file_extension": ".py",
   "mimetype": "text/x-python",
   "name": "python",
   "nbconvert_exporter": "python",
   "pygments_lexer": "ipython3",
   "version": "3.8.10"
  }
 },
 "nbformat": 4,
 "nbformat_minor": 5
}
