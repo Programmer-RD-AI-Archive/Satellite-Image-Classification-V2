{
 "cells": [
  {
   "cell_type": "code",
   "execution_count": null,
   "id": "288065ed-462f-48c5-b3b0-6102e3f7ca1f",
   "metadata": {},
   "outputs": [],
   "source": [
    "import torch\n",
    "import pandas as pd\n",
    "import numpy as np\n",
    "import matplotlib.pyplot as plt\n",
    "import seaborn as sns\n",
    "import torchvision\n",
    "import cv2\n",
    "import os\n",
    "import wandb\n",
    "from tqdm import tqdm\n",
    "from sklearn.model_selection import *\n",
    "from sklearn.metrics import *\n",
    "from torch.nn import *\n",
    "from torch.optim import *\n",
    "from torch.functional import *\n",
    "from torchvision import transforms\n",
    "import random\n",
    "from PIL import Image"
   ]
  },
  {
   "cell_type": "code",
   "execution_count": null,
   "id": "e8e70bbf-77dc-4320-a5ad-c480953fa5f6",
   "metadata": {},
   "outputs": [],
   "source": [
    "PROJECT_NAME = \"Satellite-Image-Classification-V2\"\n",
    "device = torch.device('cuda')"
   ]
  },
  {
   "cell_type": "code",
   "execution_count": null,
   "id": "15f79f33-462e-4d23-b16d-404963d0a959",
   "metadata": {},
   "outputs": [],
   "source": [
    "transformation = transforms.Compose(\n",
    "    [\n",
    "        transforms.RandomHorizontalFlip(),\n",
    "        transforms.RandomVerticalFlip(),\n",
    "        transforms.RandomRotation(random.randint(0,360)),\n",
    "        transforms.ColorJitter()\n",
    "    ]\n",
    ")"
   ]
  },
  {
   "cell_type": "code",
   "execution_count": null,
   "id": "563b87f6-1b22-4e1a-b45a-7dcf163acb4b",
   "metadata": {},
   "outputs": [],
   "source": [
    "img = cv2.imread('./data/cloudy/train_10021.jpg')"
   ]
  },
  {
   "cell_type": "code",
   "execution_count": null,
   "id": "513e277b-09fd-4dad-acfd-50ef3fd10101",
   "metadata": {},
   "outputs": [],
   "source": [
    "plt.imshow(img)"
   ]
  },
  {
   "cell_type": "code",
   "execution_count": null,
   "id": "240323bc-4ab4-4269-8313-84f27f138859",
   "metadata": {},
   "outputs": [],
   "source": [
    "plt.imshow(transformation(Image.fromarray(img)))"
   ]
  },
  {
   "cell_type": "code",
   "execution_count": null,
   "id": "f33a2976-0af7-4c09-b049-c3d9b714fc47",
   "metadata": {},
   "outputs": [],
   "source": [
    "def load_data():\n",
    "    labels = {}\n",
    "    labels_r = {}\n",
    "    idx = -1\n",
    "    data = []\n",
    "    X = []\n",
    "    y = []\n",
    "    for directory in os.listdir('./data/'):\n",
    "        idx += 1\n",
    "        labels[directory] = idx\n",
    "        labels_r[idx] = directory\n",
    "    for directory in tqdm(os.listdir('./data/')):\n",
    "        for file in os.listdir('./data/' + directory)[:500]:\n",
    "            img = cv2.imread('./data/' + directory + '/' + file)\n",
    "            img = cv2.resize(img,(56,56))\n",
    "            img = img / 255.0\n",
    "            data.append([img,labels[directory]])\n",
    "    np.random.shuffle(data)\n",
    "    for d in data:\n",
    "        X.append(d[0])\n",
    "        y.append(d[1])\n",
    "    X_train,X_test,y_train,y_test = train_test_split(X,y,test_size=0.25,shuffle=True)\n",
    "    X_train = torch.from_numpy(np.array(X_train)).to(device).view(-1,3,56,56)\n",
    "    X_test = torch.from_numpy(np.array(X_test)).to(device).view(-1,3,56,56)\n",
    "    y_train = torch.from_numpy(np.array(y_train)).to(device)\n",
    "    y_test = torch.from_numpy(np.array(y_test)).to(device)\n",
    "    return X_train,X_test,y_train,y_test,data,X,y,labels,labels_r,idx"
   ]
  },
  {
   "cell_type": "code",
   "execution_count": null,
   "id": "bae203e6-71e7-4021-a622-2c449e403b49",
   "metadata": {},
   "outputs": [],
   "source": [
    "X_train,X_test,y_train,y_test,data,X,y,labels,labels_r,idx = load_data()"
   ]
  },
  {
   "cell_type": "code",
   "execution_count": null,
   "id": "e5caff20-70dd-4215-adea-e211294b488f",
   "metadata": {},
   "outputs": [],
   "source": [
    "torch.save(labels,'./save/labels.pt')\n",
    "torch.save(labels,'./save/labels.pth')\n",
    "torch.save(labels_r,'./save/labels_r.pt')\n",
    "torch.save(labels_r,'./save/labels_r.pth')\n",
    "torch.save(data,'./save/data.pt')\n",
    "torch.save(data,'./save/data.pth')\n",
    "torch.save(X,'./save/X.pt')\n",
    "torch.save(y,'./save/y.pth')\n",
    "torch.save(X_train,'./save/X_train.pt')\n",
    "torch.save(X_test,'./save/X_test.pth')\n",
    "torch.save(y_train,'./save/y_train.pt')\n",
    "torch.save(y_test,'./save/y_test.pth')"
   ]
  },
  {
   "cell_type": "code",
   "execution_count": null,
   "id": "bf4089b1-8a71-41e6-8f3e-60bf82ed8a66",
   "metadata": {},
   "outputs": [],
   "source": [
    "torch.round(torch.tensor([[[5.5]]]))"
   ]
  },
  {
   "cell_type": "code",
   "execution_count": null,
   "id": "a8086d91-d3a2-4d52-a960-f67a450d975e",
   "metadata": {},
   "outputs": [],
   "source": [
    "def get_loss(model,X,y,criterion):\n",
    "    preds = model(X)\n",
    "    loss = criterion(preds,y)\n",
    "    return loss.item()"
   ]
  },
  {
   "cell_type": "code",
   "execution_count": null,
   "id": "ef7e0ef6-b5c3-475f-86b2-58ec725bd822",
   "metadata": {},
   "outputs": [],
   "source": [
    "def get_accuracy(model,X,y):\n",
    "    total = 0\n",
    "    correct = 0\n",
    "    preds = model(X)\n",
    "    for pred,y_iter in zip(preds,y):\n",
    "        pred = torch.round(pred)\n",
    "        y_iter = torch.round(y_iter)\n",
    "        if pred == y_iter:\n",
    "            correct += 1\n",
    "        total += 1\n",
    "    return round(correct/total,3)"
   ]
  },
  {
   "cell_type": "code",
   "execution_count": null,
   "id": "b3b14734-397d-49f5-a345-1905e57ab50a",
   "metadata": {},
   "outputs": [],
   "source": [
    "class Model(Module):\n",
    "    def __init__(self):\n",
    "        super().__init__()\n",
    "        self.relu = ReLU()\n",
    "        self.max_pool2d = MaxPool2d((2,2))\n",
    "        self.conv1 = Conv2d(3,16,5)\n",
    "        self.conv2norm = BatchNorm2d(16)\n",
    "        self.conv3 = Conv2d(16,32,5)\n",
    "        self.linear1 = Linear(32*11*11,256)\n",
    "        self.linear2 = Linear(256,512)\n",
    "        self.linear3norm = BatchNorm1d(512)\n",
    "        self.linear4 = Linear(512,256)\n",
    "        self.linear5 = Linear(256,1)\n",
    "    \n",
    "    def forward(self,X):\n",
    "        preds = self.max_pool2d(self.relu(self.conv1(X)))\n",
    "        preds = self.conv2norm(preds)\n",
    "        preds = self.max_pool2d(self.relu(self.conv3(preds)))\n",
    "        print(preds.shape)\n",
    "        preds = preds.view(-1,32*11*11)\n",
    "        preds = self.relu(self.linear1(preds))\n",
    "        preds = self.relu(self.linear2(preds))\n",
    "        preds = self.linear3norm(preds)\n",
    "        preds = self.relu(self.linear4(preds))\n",
    "        preds = self.relu(self.linear5(preds))\n",
    "        return preds"
   ]
  },
  {
   "cell_type": "code",
   "execution_count": null,
   "id": "5e524e2c-d350-4272-a388-8a8d422460ef",
   "metadata": {},
   "outputs": [],
   "source": [
    "model = Model().to(device)\n",
    "criterion = MSELoss()\n",
    "optimizer = Adam(model.parameters(),lr=0.001)\n",
    "batch_size = 32\n",
    "epochs = 100"
   ]
  },
  {
   "cell_type": "code",
   "execution_count": null,
   "id": "9f9db9fc-9ebc-41bd-b4aa-422110bb6a5f",
   "metadata": {},
   "outputs": [],
   "source": [
    "wandb.init(project=PROJECT_NAME,name='BaseLine')\n",
    "for _ in tqdm(range(epochs)):\n",
    "    for idx in range(0,len(X_train),batch_size):\n",
    "        X_batch = X_train[idx:idx+batch_size].float()\n",
    "        y_batch = y_train[idx:idx+batch_size].float()\n",
    "        preds = model(X_batch.float())\n",
    "        loss = criterion(preds.float(),y_batch.float())\n",
    "        optimizer.step()\n",
    "        loss.backward()\n",
    "        optimizer.zero_grad()\n",
    "        wandb.log({\n",
    "            \"Accuracy\":((get_accuracy(model,X_batch,y_batch)+get_accuracy(model,X_test,y_test))/2)*100,\n",
    "            \"Loss\":((get_loss(model,X_batch,y_batch,criterion)+get_loss(model,X_test,y_test,criterion))/2)\n",
    "        })\n",
    "wandb.finish()"
   ]
  },
  {
   "cell_type": "code",
   "execution_count": null,
   "id": "3a040ba3-7b36-494f-84db-680fc7ead969",
   "metadata": {},
   "outputs": [],
   "source": [
    "torch.save('./save/model.pt',model)\n",
    "torch.save('./save/model.pth',model)\n",
    "torch.save('./save/criterion.pt',criterion)\n",
    "torch.save('./save/criterion.pth',criterion)\n",
    "torch.save('./save/optimizer.pt',optimizer)\n",
    "torch.save('./save/optimizer.pth',optimizer)"
   ]
  },
  {
   "cell_type": "code",
   "execution_count": null,
   "id": "c6240815-bfdb-4f7f-a7ab-0d7d509a43a2",
   "metadata": {},
   "outputs": [],
   "source": [
    "del model,criterion,optimizer"
   ]
  },
  {
   "cell_type": "code",
   "execution_count": null,
   "id": "c8a49456-3ced-459b-a3d8-20913ca13977",
   "metadata": {},
   "outputs": [],
   "source": [
    "model = torchvision.models.resnet18(pretrained=True,num_classes=1)\n",
    "loss = MSELoss()\n",
    "optimizer = Adam(model.parameters(),lr=0.001)\n",
    "batch_size = 32\n",
    "epochs = 100"
   ]
  },
  {
   "cell_type": "code",
   "execution_count": null,
   "id": "96ab7112-6a3e-4638-8656-222440865e90",
   "metadata": {},
   "outputs": [],
   "source": [
    "wandb.init(project=PROJECT_NAME,name='Pretrianed=True Resenet18')\n",
    "for _ in tqdm(range(epochs)):\n",
    "    for idx in range(0,len(X_train),batch_size):\n",
    "        X_batch = X_train[idx:idx+batch_size].float()\n",
    "        y_batch = y_train[idx:idx+batch_size].float()\n",
    "        preds = model(X_batch)\n",
    "        loss = criterion(preds.float(),y_batch.float())\n",
    "        optimizer.step()\n",
    "        loss.backward()\n",
    "        optimizer.zero_grad()\n",
    "        wandb.log({\n",
    "            \"Accuracy\":((get_accuracy(model,X_batch,y_batch)+get_accuracy(model,X_test,y_test))/2)*100,\n",
    "            \"Loss\":((get_loss(model,X_batch,y_batch,criterion)+get_loss(model,X_test,y_test,criterion))/2)\n",
    "        })\n",
    "wandb.finish()"
   ]
  },
  {
   "cell_type": "code",
   "execution_count": null,
   "id": "de7bdb26-413e-4f61-96fd-4eb22c23c88b",
   "metadata": {},
   "outputs": [],
   "source": [
    "torch.save('./save/model-2.pt',model)\n",
    "torch.save('./save/model-2.pth',model)\n",
    "torch.save('./save/criterion-2.pt',criterion)\n",
    "torch.save('./save/criterion-2.pth',criterion)\n",
    "torch.save('./save/optimizer-2.pt',optimizer)\n",
    "torch.save('./save/optimizer-2.pth',optimizer)"
   ]
  },
  {
   "cell_type": "code",
   "execution_count": null,
   "id": "f3a8076c-cd6a-4745-91f5-d85da7224bd4",
   "metadata": {},
   "outputs": [],
   "source": [
    "del model,criterionterion,optimizer"
   ]
  },
  {
   "cell_type": "code",
   "execution_count": null,
   "id": "1c639605-6db4-4939-bf8c-608e09a430ea",
   "metadata": {},
   "outputs": [],
   "source": [
    "model = torchvision.models.resnet18(pretrained=False,num_classes=1)\n",
    "loss = MSELoss()\n",
    "optimizer = Adam(model.parameters(),lr=0.001)\n",
    "batch_size = 32\n",
    "epochs = 100"
   ]
  },
  {
   "cell_type": "code",
   "execution_count": null,
   "id": "dc6bdbc4-ad2b-4d68-8497-5d57db0ddb25",
   "metadata": {},
   "outputs": [],
   "source": [
    "wandb.init(project=PROJECT_NAME,name='Pretrianed=True Resenet18')\n",
    "for _ in tqdm(range(epochs)):\n",
    "    for idx in range(0,len(X_train),batch_size):\n",
    "        X_batch = X_train[idx:idx+batch_size].float()\n",
    "        y_batch = y_train[idx:idx+batch_size].float()\n",
    "        preds = model(X_batch)\n",
    "        loss = criterion(preds.float(),y_batch.float())\n",
    "        optimizer.step()\n",
    "        loss.backward()\n",
    "        optimizer.zero_grad()\n",
    "        wandb.log({\n",
    "            \"Accuracy\":((get_accuracy(model,X_batch,y_batch)+get_accuracy(model,X_test,y_test))/2)*100,\n",
    "            \"Loss\":((get_loss(model,X_batch,y_batch,criterion)+get_loss(model,X_test,y_test,criterion))/2)\n",
    "        })\n",
    "wandb.finish()"
   ]
  },
  {
   "cell_type": "code",
   "execution_count": null,
   "id": "6ddd8ad2-e5e8-44a9-8cb8-201a81a10b16",
   "metadata": {},
   "outputs": [],
   "source": [
    "torch.save('./save/model-3.pt',model)\n",
    "torch.save('./save/model-3.pth',model)\n",
    "torch.save('./save/criterion-3.pt',criterion)\n",
    "torch.save('./save/criterion-3.pth',criterion)\n",
    "torch.save('./save/optimizer-3.pt',optimizer)\n",
    "torch.save('./save/optimizer-3.pth',optimizer)"
   ]
  }
 ],
 "metadata": {
  "kernelspec": {
   "display_name": "Python 3 (ipykernel)",
   "language": "python",
   "name": "python3"
  },
  "language_info": {
   "codemirror_mode": {
    "name": "ipython",
    "version": 3
   },
   "file_extension": ".py",
   "mimetype": "text/x-python",
   "name": "python",
   "nbconvert_exporter": "python",
   "pygments_lexer": "ipython3",
   "version": "3.8.10"
  }
 },
 "nbformat": 4,
 "nbformat_minor": 5
}
